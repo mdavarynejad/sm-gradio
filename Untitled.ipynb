{
 "cells": [
  {
   "cell_type": "code",
   "execution_count": 4,
   "id": "5ae14e32-8b3c-451d-ac6f-1283d6f25fab",
   "metadata": {},
   "outputs": [],
   "source": [
    "from data.data_handling import fetch_stock_data, add_lags"
   ]
  },
  {
   "cell_type": "code",
   "execution_count": 5,
   "id": "c9c5b25e-2935-4c44-80cb-20985d4fddc1",
   "metadata": {},
   "outputs": [
    {
     "name": "stderr",
     "output_type": "stream",
     "text": [
      "/root/sm-gradio/data/data_handling.py:36: FutureWarning: DataFrame.fillna with 'method' is deprecated and will raise in a future version. Use obj.ffill() or obj.bfill() instead.\n",
      "  df.fillna(method='ffill', inplace=True)\n"
     ]
    },
    {
     "name": "stdout",
     "output_type": "stream",
     "text": [
      "The set level of Granularity is: D.\n"
     ]
    }
   ],
   "source": [
    "ticker = \"TSLA\"\n",
    "granularity = \"Daily\"\n",
    "\n",
    "df = fetch_stock_data(ticker, granularity)"
   ]
  },
  {
   "cell_type": "code",
   "execution_count": 6,
   "id": "d8c0d133-bac1-4e2a-a16b-c381de26af79",
   "metadata": {},
   "outputs": [
    {
     "data": {
      "text/html": [
       "<div>\n",
       "<style scoped>\n",
       "    .dataframe tbody tr th:only-of-type {\n",
       "        vertical-align: middle;\n",
       "    }\n",
       "\n",
       "    .dataframe tbody tr th {\n",
       "        vertical-align: top;\n",
       "    }\n",
       "\n",
       "    .dataframe thead th {\n",
       "        text-align: right;\n",
       "    }\n",
       "</style>\n",
       "<table border=\"1\" class=\"dataframe\">\n",
       "  <thead>\n",
       "    <tr style=\"text-align: right;\">\n",
       "      <th></th>\n",
       "      <th>Date</th>\n",
       "      <th>Open</th>\n",
       "      <th>High</th>\n",
       "      <th>Low</th>\n",
       "      <th>Close</th>\n",
       "      <th>Volume</th>\n",
       "      <th>Transactions</th>\n",
       "    </tr>\n",
       "  </thead>\n",
       "  <tbody>\n",
       "    <tr>\n",
       "      <th>1057</th>\n",
       "      <td>2025-01-24</td>\n",
       "      <td>406.15</td>\n",
       "      <td>406.15</td>\n",
       "      <td>406.1500</td>\n",
       "      <td>406.15</td>\n",
       "      <td>1380.0</td>\n",
       "      <td>61.0</td>\n",
       "    </tr>\n",
       "    <tr>\n",
       "      <th>1058</th>\n",
       "      <td>2025-01-25</td>\n",
       "      <td>405.61</td>\n",
       "      <td>405.61</td>\n",
       "      <td>405.4200</td>\n",
       "      <td>405.47</td>\n",
       "      <td>13293.0</td>\n",
       "      <td>419.0</td>\n",
       "    </tr>\n",
       "    <tr>\n",
       "      <th>1059</th>\n",
       "      <td>2025-01-27</td>\n",
       "      <td>397.40</td>\n",
       "      <td>397.40</td>\n",
       "      <td>397.4000</td>\n",
       "      <td>397.40</td>\n",
       "      <td>482.0</td>\n",
       "      <td>40.0</td>\n",
       "    </tr>\n",
       "    <tr>\n",
       "      <th>1060</th>\n",
       "      <td>2025-01-28</td>\n",
       "      <td>396.17</td>\n",
       "      <td>396.17</td>\n",
       "      <td>396.1700</td>\n",
       "      <td>396.17</td>\n",
       "      <td>844.0</td>\n",
       "      <td>42.0</td>\n",
       "    </tr>\n",
       "    <tr>\n",
       "      <th>1061</th>\n",
       "      <td>2025-01-29</td>\n",
       "      <td>391.94</td>\n",
       "      <td>392.45</td>\n",
       "      <td>391.6001</td>\n",
       "      <td>392.35</td>\n",
       "      <td>95601.0</td>\n",
       "      <td>1878.0</td>\n",
       "    </tr>\n",
       "  </tbody>\n",
       "</table>\n",
       "</div>"
      ],
      "text/plain": [
       "           Date    Open    High       Low   Close   Volume  Transactions\n",
       "1057 2025-01-24  406.15  406.15  406.1500  406.15   1380.0          61.0\n",
       "1058 2025-01-25  405.61  405.61  405.4200  405.47  13293.0         419.0\n",
       "1059 2025-01-27  397.40  397.40  397.4000  397.40    482.0          40.0\n",
       "1060 2025-01-28  396.17  396.17  396.1700  396.17    844.0          42.0\n",
       "1061 2025-01-29  391.94  392.45  391.6001  392.35  95601.0        1878.0"
      ]
     },
     "execution_count": 6,
     "metadata": {},
     "output_type": "execute_result"
    }
   ],
   "source": [
    "df.tail()"
   ]
  },
  {
   "cell_type": "code",
   "execution_count": 5,
   "id": "2c3f874b-7f02-458f-babb-fc9ae00445a7",
   "metadata": {},
   "outputs": [
    {
     "ename": "TypeError",
     "evalue": "unsupported operand type(s) for *=: 'int' and 'NoneType'",
     "output_type": "error",
     "traceback": [
      "\u001b[0;31m---------------------------------------------------------------------------\u001b[0m",
      "\u001b[0;31mTypeError\u001b[0m                                 Traceback (most recent call last)",
      "Cell \u001b[0;32mIn[5], line 30\u001b[0m\n\u001b[1;32m     27\u001b[0m \u001b[38;5;66;03m# 4. Forecast for the next 60 days (relative to the last date in y)\u001b[39;00m\n\u001b[1;32m     28\u001b[0m \u001b[38;5;66;03m#    If your data is daily, this means 60 calendar days out.\u001b[39;00m\n\u001b[1;32m     29\u001b[0m fh \u001b[38;5;241m=\u001b[39m np\u001b[38;5;241m.\u001b[39marange(\u001b[38;5;241m1\u001b[39m, \u001b[38;5;241m61\u001b[39m)  \u001b[38;5;66;03m# 1-step ahead up to 60-steps ahead\u001b[39;00m\n\u001b[0;32m---> 30\u001b[0m y_pred \u001b[38;5;241m=\u001b[39m \u001b[43mforecaster\u001b[49m\u001b[38;5;241;43m.\u001b[39;49m\u001b[43mpredict\u001b[49m\u001b[43m(\u001b[49m\u001b[43mfh\u001b[49m\u001b[43m)\u001b[49m\n\u001b[1;32m     32\u001b[0m \u001b[38;5;28mprint\u001b[39m(y_pred)\n",
      "File \u001b[0;32m~/sm-gradio/venv/lib/python3.10/site-packages/sktime/forecasting/base/_base.py:457\u001b[0m, in \u001b[0;36mBaseForecaster.predict\u001b[0;34m(self, fh, X)\u001b[0m\n\u001b[1;32m    455\u001b[0m \u001b[38;5;66;03m# we call the ordinary _predict if no looping/vectorization needed\u001b[39;00m\n\u001b[1;32m    456\u001b[0m \u001b[38;5;28;01mif\u001b[39;00m \u001b[38;5;129;01mnot\u001b[39;00m \u001b[38;5;28mself\u001b[39m\u001b[38;5;241m.\u001b[39m_is_vectorized:\n\u001b[0;32m--> 457\u001b[0m     y_pred \u001b[38;5;241m=\u001b[39m \u001b[38;5;28;43mself\u001b[39;49m\u001b[38;5;241;43m.\u001b[39;49m\u001b[43m_predict\u001b[49m\u001b[43m(\u001b[49m\u001b[43mfh\u001b[49m\u001b[38;5;241;43m=\u001b[39;49m\u001b[43mfh\u001b[49m\u001b[43m,\u001b[49m\u001b[43m \u001b[49m\u001b[43mX\u001b[49m\u001b[38;5;241;43m=\u001b[39;49m\u001b[43mX_inner\u001b[49m\u001b[43m)\u001b[49m\n\u001b[1;32m    458\u001b[0m \u001b[38;5;28;01melse\u001b[39;00m:\n\u001b[1;32m    459\u001b[0m     \u001b[38;5;66;03m# otherwise we call the vectorized version of predict\u001b[39;00m\n\u001b[1;32m    460\u001b[0m     y_pred \u001b[38;5;241m=\u001b[39m \u001b[38;5;28mself\u001b[39m\u001b[38;5;241m.\u001b[39m_vectorize(\u001b[38;5;124m\"\u001b[39m\u001b[38;5;124mpredict\u001b[39m\u001b[38;5;124m\"\u001b[39m, X\u001b[38;5;241m=\u001b[39mX_inner, fh\u001b[38;5;241m=\u001b[39mfh)\n",
      "File \u001b[0;32m~/sm-gradio/venv/lib/python3.10/site-packages/sktime/forecasting/base/_sktime.py:56\u001b[0m, in \u001b[0;36m_BaseWindowForecaster._predict\u001b[0;34m(self, fh, X)\u001b[0m\n\u001b[1;32m     53\u001b[0m \u001b[38;5;250m\u001b[39m\u001b[38;5;124;03m\"\"\"Predict core logic.\"\"\"\u001b[39;00m\n\u001b[1;32m     54\u001b[0m kwargs \u001b[38;5;241m=\u001b[39m {\u001b[38;5;124m\"\u001b[39m\u001b[38;5;124mX\u001b[39m\u001b[38;5;124m\"\u001b[39m: X}\n\u001b[0;32m---> 56\u001b[0m y_pred \u001b[38;5;241m=\u001b[39m \u001b[38;5;28;43mself\u001b[39;49m\u001b[38;5;241;43m.\u001b[39;49m\u001b[43m_predict_boilerplate\u001b[49m\u001b[43m(\u001b[49m\u001b[43mfh\u001b[49m\u001b[43m,\u001b[49m\u001b[43m \u001b[49m\u001b[38;5;241;43m*\u001b[39;49m\u001b[38;5;241;43m*\u001b[39;49m\u001b[43mkwargs\u001b[49m\u001b[43m)\u001b[49m\n\u001b[1;32m     58\u001b[0m \u001b[38;5;66;03m# ensure pd.Series name attribute is preserved\u001b[39;00m\n\u001b[1;32m     59\u001b[0m \u001b[38;5;28;01mif\u001b[39;00m \u001b[38;5;28misinstance\u001b[39m(y_pred, pd\u001b[38;5;241m.\u001b[39mSeries) \u001b[38;5;129;01mand\u001b[39;00m \u001b[38;5;28misinstance\u001b[39m(\u001b[38;5;28mself\u001b[39m\u001b[38;5;241m.\u001b[39m_y, pd\u001b[38;5;241m.\u001b[39mSeries):\n",
      "File \u001b[0;32m~/sm-gradio/venv/lib/python3.10/site-packages/sktime/forecasting/base/_sktime.py:34\u001b[0m, in \u001b[0;36m_BaseWindowForecaster._predict_boilerplate\u001b[0;34m(self, fh, **kwargs)\u001b[0m\n\u001b[1;32m     32\u001b[0m \u001b[38;5;66;03m# all values are out-of-sample\u001b[39;00m\n\u001b[1;32m     33\u001b[0m \u001b[38;5;28;01mif\u001b[39;00m fh\u001b[38;5;241m.\u001b[39mis_all_out_of_sample(cutoff):\n\u001b[0;32m---> 34\u001b[0m     y_pred \u001b[38;5;241m=\u001b[39m \u001b[38;5;28;43mself\u001b[39;49m\u001b[38;5;241;43m.\u001b[39;49m\u001b[43m_predict_fixed_cutoff\u001b[49m\u001b[43m(\u001b[49m\u001b[43mfh\u001b[49m\u001b[38;5;241;43m.\u001b[39;49m\u001b[43mto_out_of_sample\u001b[49m\u001b[43m(\u001b[49m\u001b[43mcutoff\u001b[49m\u001b[43m)\u001b[49m\u001b[43m,\u001b[49m\u001b[43m \u001b[49m\u001b[38;5;241;43m*\u001b[39;49m\u001b[38;5;241;43m*\u001b[39;49m\u001b[43mkwargs\u001b[49m\u001b[43m)\u001b[49m\n\u001b[1;32m     36\u001b[0m \u001b[38;5;66;03m# all values are in-sample\u001b[39;00m\n\u001b[1;32m     37\u001b[0m \u001b[38;5;28;01melif\u001b[39;00m fh\u001b[38;5;241m.\u001b[39mis_all_in_sample(\u001b[38;5;28mself\u001b[39m\u001b[38;5;241m.\u001b[39mcutoff):\n",
      "File \u001b[0;32m~/sm-gradio/venv/lib/python3.10/site-packages/sktime/forecasting/base/_sktime.py:81\u001b[0m, in \u001b[0;36m_BaseWindowForecaster._predict_fixed_cutoff\u001b[0;34m(self, fh, X, **kwargs)\u001b[0m\n\u001b[1;32m     68\u001b[0m \u001b[38;5;250m\u001b[39m\u001b[38;5;124;03m\"\"\"Make single-step or multi-step fixed cutoff predictions.\u001b[39;00m\n\u001b[1;32m     69\u001b[0m \n\u001b[1;32m     70\u001b[0m \u001b[38;5;124;03mParameters\u001b[39;00m\n\u001b[0;32m   (...)\u001b[0m\n\u001b[1;32m     78\u001b[0m \u001b[38;5;124;03my_pred = pd.Series or pd.DataFrame\u001b[39;00m\n\u001b[1;32m     79\u001b[0m \u001b[38;5;124;03m\"\"\"\u001b[39;00m\n\u001b[1;32m     80\u001b[0m \u001b[38;5;66;03m# assert all(fh > 0)\u001b[39;00m\n\u001b[0;32m---> 81\u001b[0m y_pred \u001b[38;5;241m=\u001b[39m \u001b[38;5;28;43mself\u001b[39;49m\u001b[38;5;241;43m.\u001b[39;49m\u001b[43m_predict_last_window\u001b[49m\u001b[43m(\u001b[49m\u001b[43mfh\u001b[49m\u001b[43m,\u001b[49m\u001b[43m \u001b[49m\u001b[43mX\u001b[49m\u001b[38;5;241;43m=\u001b[39;49m\u001b[43mX\u001b[49m\u001b[43m,\u001b[49m\u001b[43m \u001b[49m\u001b[38;5;241;43m*\u001b[39;49m\u001b[38;5;241;43m*\u001b[39;49m\u001b[43mkwargs\u001b[49m\u001b[43m)\u001b[49m\n\u001b[1;32m     82\u001b[0m \u001b[38;5;28;01mif\u001b[39;00m \u001b[38;5;28misinstance\u001b[39m(y_pred, pd\u001b[38;5;241m.\u001b[39mSeries) \u001b[38;5;129;01mor\u001b[39;00m \u001b[38;5;28misinstance\u001b[39m(y_pred, pd\u001b[38;5;241m.\u001b[39mDataFrame):\n\u001b[1;32m     83\u001b[0m     \u001b[38;5;28;01mreturn\u001b[39;00m y_pred\n",
      "File \u001b[0;32m~/sm-gradio/venv/lib/python3.10/site-packages/sktime/forecasting/compose/_reduce.py:988\u001b[0m, in \u001b[0;36m_RecursiveReducer._predict_last_window\u001b[0;34m(self, fh, X, **kwargs)\u001b[0m\n\u001b[1;32m    986\u001b[0m         \u001b[38;5;28;01mreturn\u001b[39;00m \u001b[38;5;28mself\u001b[39m\u001b[38;5;241m.\u001b[39m_predict_nan(fh)\n\u001b[1;32m    987\u001b[0m \u001b[38;5;28;01melse\u001b[39;00m:\n\u001b[0;32m--> 988\u001b[0m     y_last, X_last \u001b[38;5;241m=\u001b[39m \u001b[38;5;28;43mself\u001b[39;49m\u001b[38;5;241;43m.\u001b[39;49m\u001b[43m_get_last_window\u001b[49m\u001b[43m(\u001b[49m\u001b[43m)\u001b[49m\n\u001b[1;32m    989\u001b[0m     \u001b[38;5;28;01mif\u001b[39;00m \u001b[38;5;129;01mnot\u001b[39;00m \u001b[38;5;28mself\u001b[39m\u001b[38;5;241m.\u001b[39m_is_predictable(y_last):\n\u001b[1;32m    990\u001b[0m         \u001b[38;5;28;01mreturn\u001b[39;00m \u001b[38;5;28mself\u001b[39m\u001b[38;5;241m.\u001b[39m_predict_nan(fh)\n",
      "File \u001b[0;32m~/sm-gradio/venv/lib/python3.10/site-packages/sktime/forecasting/base/_sktime.py:127\u001b[0m, in \u001b[0;36m_BaseWindowForecaster._get_last_window\u001b[0;34m(self)\u001b[0m\n\u001b[1;32m    125\u001b[0m \u001b[38;5;66;03m# Get the start and end points of the last window.\u001b[39;00m\n\u001b[1;32m    126\u001b[0m cutoff \u001b[38;5;241m=\u001b[39m \u001b[38;5;28mself\u001b[39m\u001b[38;5;241m.\u001b[39m_cutoff\n\u001b[0;32m--> 127\u001b[0m start \u001b[38;5;241m=\u001b[39m \u001b[43m_shift\u001b[49m\u001b[43m(\u001b[49m\u001b[43mcutoff\u001b[49m\u001b[43m,\u001b[49m\u001b[43m \u001b[49m\u001b[43mby\u001b[49m\u001b[38;5;241;43m=\u001b[39;49m\u001b[38;5;241;43m-\u001b[39;49m\u001b[38;5;28;43mself\u001b[39;49m\u001b[38;5;241;43m.\u001b[39;49m\u001b[43mwindow_length_\u001b[49m\u001b[43m \u001b[49m\u001b[38;5;241;43m+\u001b[39;49m\u001b[43m \u001b[49m\u001b[38;5;241;43m1\u001b[39;49m\u001b[43m)\u001b[49m\n\u001b[1;32m    128\u001b[0m cutoff \u001b[38;5;241m=\u001b[39m cutoff[\u001b[38;5;241m0\u001b[39m]\n\u001b[1;32m    130\u001b[0m \u001b[38;5;66;03m# Get the last window of the endogenous variable.\u001b[39;00m\n",
      "File \u001b[0;32m~/sm-gradio/venv/lib/python3.10/site-packages/sktime/utils/datetime.py:226\u001b[0m, in \u001b[0;36m_shift\u001b[0;34m(x, by, return_index)\u001b[0m\n\u001b[1;32m    224\u001b[0m \u001b[38;5;66;03m# we need to get freq from idx, since pd.Timestamp freq is deprecated\u001b[39;00m\n\u001b[1;32m    225\u001b[0m \u001b[38;5;28;01mif\u001b[39;00m \u001b[38;5;28misinstance\u001b[39m(x, pd\u001b[38;5;241m.\u001b[39mTimestamp):\n\u001b[0;32m--> 226\u001b[0m     by \u001b[38;5;241m*\u001b[39m\u001b[38;5;241m=\u001b[39m idx\u001b[38;5;241m.\u001b[39mfreq\n\u001b[1;32m    227\u001b[0m \u001b[38;5;28;01mreturn\u001b[39;00m x \u001b[38;5;241m+\u001b[39m by\n",
      "\u001b[0;31mTypeError\u001b[0m: unsupported operand type(s) for *=: 'int' and 'NoneType'"
     ]
    }
   ],
   "source": [
    "import pandas as pd\n",
    "import numpy as np\n",
    "\n",
    "# sktime and sklearn\n",
    "from sktime.forecasting.compose import make_reduction\n",
    "from sktime.forecasting.base import ForecastingHorizon\n",
    "from sklearn.neighbors import KNeighborsRegressor\n",
    "\n",
    "# 1. Convert Date column to DateTime type and set as index\n",
    "df['Date'] = pd.to_datetime(df['Date'])\n",
    "df.set_index('Date', inplace=True)\n",
    "\n",
    "# 2. Select the target variable (Close) for forecasting\n",
    "y = df['Close']\n",
    "\n",
    "# 3. Define the regressor and forecaster\n",
    "regressor = KNeighborsRegressor(n_neighbors=1)\n",
    "forecaster = make_reduction(\n",
    "    regressor, \n",
    "    window_length=15, \n",
    "    strategy=\"recursive\"\n",
    ")\n",
    "\n",
    "# Fit on the entire historical data (y)\n",
    "forecaster.fit(y)\n",
    "\n",
    "# 4. Forecast for the next 60 days (relative to the last date in y)\n",
    "#    If your data is daily, this means 60 calendar days out.\n",
    "fh = np.arange(1, 61)  # 1-step ahead up to 60-steps ahead\n",
    "y_pred = forecaster.predict(fh)\n",
    "\n",
    "print(y_pred)\n"
   ]
  },
  {
   "cell_type": "code",
   "execution_count": null,
   "id": "6a900be6-9540-44b8-acbf-74e1519795b9",
   "metadata": {},
   "outputs": [],
   "source": []
  }
 ],
 "metadata": {
  "kernelspec": {
   "display_name": "Python 3 (ipykernel)",
   "language": "python",
   "name": "python3"
  },
  "language_info": {
   "codemirror_mode": {
    "name": "ipython",
    "version": 3
   },
   "file_extension": ".py",
   "mimetype": "text/x-python",
   "name": "python",
   "nbconvert_exporter": "python",
   "pygments_lexer": "ipython3",
   "version": "3.10.12"
  }
 },
 "nbformat": 4,
 "nbformat_minor": 5
}
