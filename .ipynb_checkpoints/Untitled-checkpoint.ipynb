{
 "cells": [
  {
   "cell_type": "code",
   "execution_count": 1,
   "id": "5ae14e32-8b3c-451d-ac6f-1283d6f25fab",
   "metadata": {},
   "outputs": [],
   "source": [
    "from data.data_handling import fetch_stock_data, add_lags\n",
    "\n"
   ]
  },
  {
   "cell_type": "code",
   "execution_count": 2,
   "id": "c9c5b25e-2935-4c44-80cb-20985d4fddc1",
   "metadata": {},
   "outputs": [
    {
     "name": "stderr",
     "output_type": "stream",
     "text": [
      "/root/sm-gradio/data/data_handling.py:36: FutureWarning: DataFrame.fillna with 'method' is deprecated and will raise in a future version. Use obj.ffill() or obj.bfill() instead.\n",
      "  df.fillna(method='ffill', inplace=True)\n"
     ]
    }
   ],
   "source": [
    "ticker = \"TSLA\"\n",
    "granularity = \"Daily\"\n",
    "\n",
    "df = fetch_stock_data(ticker, granularity)"
   ]
  },
  {
   "cell_type": "code",
   "execution_count": 3,
   "id": "d8c0d133-bac1-4e2a-a16b-c381de26af79",
   "metadata": {},
   "outputs": [
    {
     "data": {
      "text/html": [
       "<div>\n",
       "<style scoped>\n",
       "    .dataframe tbody tr th:only-of-type {\n",
       "        vertical-align: middle;\n",
       "    }\n",
       "\n",
       "    .dataframe tbody tr th {\n",
       "        vertical-align: top;\n",
       "    }\n",
       "\n",
       "    .dataframe thead th {\n",
       "        text-align: right;\n",
       "    }\n",
       "</style>\n",
       "<table border=\"1\" class=\"dataframe\">\n",
       "  <thead>\n",
       "    <tr style=\"text-align: right;\">\n",
       "      <th></th>\n",
       "      <th>Date</th>\n",
       "      <th>Open</th>\n",
       "      <th>High</th>\n",
       "      <th>Low</th>\n",
       "      <th>Close</th>\n",
       "      <th>Volume</th>\n",
       "      <th>Transactions</th>\n",
       "    </tr>\n",
       "  </thead>\n",
       "  <tbody>\n",
       "    <tr>\n",
       "      <th>0</th>\n",
       "      <td>2015-02-17</td>\n",
       "      <td>13.6213</td>\n",
       "      <td>13.6213</td>\n",
       "      <td>13.6213</td>\n",
       "      <td>13.6213</td>\n",
       "      <td>13500.0</td>\n",
       "      <td>1.0</td>\n",
       "    </tr>\n",
       "    <tr>\n",
       "      <th>1</th>\n",
       "      <td>2015-02-18</td>\n",
       "      <td>13.6033</td>\n",
       "      <td>13.6033</td>\n",
       "      <td>13.6000</td>\n",
       "      <td>13.6000</td>\n",
       "      <td>8250.0</td>\n",
       "      <td>2.0</td>\n",
       "    </tr>\n",
       "    <tr>\n",
       "      <th>2</th>\n",
       "      <td>2015-02-19</td>\n",
       "      <td>14.1233</td>\n",
       "      <td>14.1233</td>\n",
       "      <td>14.1233</td>\n",
       "      <td>14.1233</td>\n",
       "      <td>7500.0</td>\n",
       "      <td>4.0</td>\n",
       "    </tr>\n",
       "    <tr>\n",
       "      <th>3</th>\n",
       "      <td>2015-02-20</td>\n",
       "      <td>14.4767</td>\n",
       "      <td>14.4767</td>\n",
       "      <td>14.4767</td>\n",
       "      <td>14.4767</td>\n",
       "      <td>1500.0</td>\n",
       "      <td>1.0</td>\n",
       "    </tr>\n",
       "    <tr>\n",
       "      <th>4</th>\n",
       "      <td>2015-02-21</td>\n",
       "      <td>14.4767</td>\n",
       "      <td>14.4767</td>\n",
       "      <td>14.4767</td>\n",
       "      <td>14.4767</td>\n",
       "      <td>11250.0</td>\n",
       "      <td>3.0</td>\n",
       "    </tr>\n",
       "  </tbody>\n",
       "</table>\n",
       "</div>"
      ],
      "text/plain": [
       "        Date     Open     High      Low    Close   Volume  Transactions\n",
       "0 2015-02-17  13.6213  13.6213  13.6213  13.6213  13500.0           1.0\n",
       "1 2015-02-18  13.6033  13.6033  13.6000  13.6000   8250.0           2.0\n",
       "2 2015-02-19  14.1233  14.1233  14.1233  14.1233   7500.0           4.0\n",
       "3 2015-02-20  14.4767  14.4767  14.4767  14.4767   1500.0           1.0\n",
       "4 2015-02-21  14.4767  14.4767  14.4767  14.4767  11250.0           3.0"
      ]
     },
     "execution_count": 3,
     "metadata": {},
     "output_type": "execute_result"
    }
   ],
   "source": [
    "df.head()"
   ]
  },
  {
   "cell_type": "code",
   "execution_count": 4,
   "id": "2c3f874b-7f02-458f-babb-fc9ae00445a7",
   "metadata": {},
   "outputs": [
    {
     "ename": "ModuleNotFoundError",
     "evalue": "No module named 'sktime'",
     "output_type": "error",
     "traceback": [
      "\u001b[0;31m---------------------------------------------------------------------------\u001b[0m",
      "\u001b[0;31mModuleNotFoundError\u001b[0m                       Traceback (most recent call last)",
      "Cell \u001b[0;32mIn[4], line 5\u001b[0m\n\u001b[1;32m      2\u001b[0m \u001b[38;5;28;01mimport\u001b[39;00m\u001b[38;5;250m \u001b[39m\u001b[38;5;21;01mnumpy\u001b[39;00m\u001b[38;5;250m \u001b[39m\u001b[38;5;28;01mas\u001b[39;00m\u001b[38;5;250m \u001b[39m\u001b[38;5;21;01mnp\u001b[39;00m\n\u001b[1;32m      4\u001b[0m \u001b[38;5;66;03m# sktime and sklearn\u001b[39;00m\n\u001b[0;32m----> 5\u001b[0m \u001b[38;5;28;01mfrom\u001b[39;00m\u001b[38;5;250m \u001b[39m\u001b[38;5;21;01msktime\u001b[39;00m\u001b[38;5;21;01m.\u001b[39;00m\u001b[38;5;21;01mforecasting\u001b[39;00m\u001b[38;5;21;01m.\u001b[39;00m\u001b[38;5;21;01mcompose\u001b[39;00m\u001b[38;5;250m \u001b[39m\u001b[38;5;28;01mimport\u001b[39;00m make_reduction\n\u001b[1;32m      6\u001b[0m \u001b[38;5;28;01mfrom\u001b[39;00m\u001b[38;5;250m \u001b[39m\u001b[38;5;21;01msktime\u001b[39;00m\u001b[38;5;21;01m.\u001b[39;00m\u001b[38;5;21;01mforecasting\u001b[39;00m\u001b[38;5;21;01m.\u001b[39;00m\u001b[38;5;21;01mbase\u001b[39;00m\u001b[38;5;250m \u001b[39m\u001b[38;5;28;01mimport\u001b[39;00m ForecastingHorizon\n\u001b[1;32m      7\u001b[0m \u001b[38;5;28;01mfrom\u001b[39;00m\u001b[38;5;250m \u001b[39m\u001b[38;5;21;01msklearn\u001b[39;00m\u001b[38;5;21;01m.\u001b[39;00m\u001b[38;5;21;01mneighbors\u001b[39;00m\u001b[38;5;250m \u001b[39m\u001b[38;5;28;01mimport\u001b[39;00m KNeighborsRegressor\n",
      "\u001b[0;31mModuleNotFoundError\u001b[0m: No module named 'sktime'"
     ]
    }
   ],
   "source": [
    "import pandas as pd\n",
    "import numpy as np\n",
    "\n",
    "# sktime and sklearn\n",
    "from sktime.forecasting.compose import make_reduction\n",
    "from sktime.forecasting.base import ForecastingHorizon\n",
    "from sklearn.neighbors import KNeighborsRegressor\n",
    "\n",
    "# 1. Convert Date column to DateTime type and set as index\n",
    "df['Date'] = pd.to_datetime(df['Date'])\n",
    "df.set_index('Date', inplace=True)\n",
    "\n",
    "# 2. Select the target variable (Close) for forecasting\n",
    "y = df['Close']\n",
    "\n",
    "# 3. Define the regressor and forecaster\n",
    "regressor = KNeighborsRegressor(n_neighbors=1)\n",
    "forecaster = make_reduction(\n",
    "    regressor, \n",
    "    window_length=15, \n",
    "    strategy=\"recursive\"\n",
    ")\n",
    "\n",
    "# Fit on the entire historical data (y)\n",
    "forecaster.fit(y)\n",
    "\n",
    "# 4. Forecast for the next 60 days (relative to the last date in y)\n",
    "#    If your data is daily, this means 60 calendar days out.\n",
    "fh = np.arange(1, 61)  # 1-step ahead up to 60-steps ahead\n",
    "y_pred = forecaster.predict(fh)\n",
    "\n",
    "print(y_pred)\n"
   ]
  },
  {
   "cell_type": "code",
   "execution_count": null,
   "id": "6a900be6-9540-44b8-acbf-74e1519795b9",
   "metadata": {},
   "outputs": [],
   "source": []
  }
 ],
 "metadata": {
  "kernelspec": {
   "display_name": "Python 3 (ipykernel)",
   "language": "python",
   "name": "python3"
  },
  "language_info": {
   "codemirror_mode": {
    "name": "ipython",
    "version": 3
   },
   "file_extension": ".py",
   "mimetype": "text/x-python",
   "name": "python",
   "nbconvert_exporter": "python",
   "pygments_lexer": "ipython3",
   "version": "3.10.12"
  }
 },
 "nbformat": 4,
 "nbformat_minor": 5
}
